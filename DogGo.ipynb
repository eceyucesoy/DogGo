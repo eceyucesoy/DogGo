{
  "nbformat": 4,
  "nbformat_minor": 0,
  "metadata": {
    "colab": {
      "provenance": []
    },
    "kernelspec": {
      "name": "python3",
      "display_name": "Python 3"
    },
    "language_info": {
      "name": "python"
    }
  },
  "cells": [
    {
      "cell_type": "code",
      "execution_count": 134,
      "metadata": {
        "id": "0sK8xhH6N0K9"
      },
      "outputs": [],
      "source": [
        "import pandas as pd\n",
        "import numpy as np\n",
        "from IPython.display import display\n",
        "from IPython.core.interactiveshell import InteractiveShell\n",
        "from datetime import datetime, timedelta\n",
        "InteractiveShell.ast_node_interactivity = \"all\"\n",
        "dataWalks = pd.read_csv(\"walks.csv\")\n",
        "dataWalkers = pd.read_csv(\"walkers.csv\")\n",
        "dataDemands = pd.read_csv(\"demands.csv\")\n",
        "df1 = pd.DataFrame(dataWalks)\n",
        "df2 = pd.DataFrame(dataWalkers)\n",
        "df3 = pd.DataFrame(dataDemands)"
      ]
    },
    {
      "cell_type": "markdown",
      "source": [
        "**a.\ttotalWalks i.\tTotal number of walks done by walker so far**"
      ],
      "metadata": {
        "id": "ufWSCdqn4IOm"
      }
    },
    {
      "cell_type": "code",
      "source": [
        "df1[\"checkintime\"] = pd.to_datetime(df1[\"checkintime\"])\n",
        "totalWalks = df1.groupby(\"walkerid\")[\"checkintime\"].count().reset_index()\n",
        "totalWalks.rename(columns={\"checkintime\": \"totalWalks\"}, inplace=True)\n",
        "print(totalWalks)"
      ],
      "metadata": {
        "id": "x7WT8-eCR7pi",
        "colab": {
          "base_uri": "https://localhost:8080/"
        },
        "outputId": "6f27f323-3762-4e08-cd4b-aee5fe082191"
      },
      "execution_count": 135,
      "outputs": [
        {
          "output_type": "stream",
          "name": "stdout",
          "text": [
            "                                  walkerid  totalWalks\n",
            "0     00162fd3-21b4-4371-bebe-db6b081d86ef           6\n",
            "1     0082cfc9-ce2f-47b1-a1ae-5e0c45f903b1           5\n",
            "2     00fef613-662c-4194-8de1-164942e25fb2           8\n",
            "3     01adeee1-cb3d-46ff-9514-f4797299698c           5\n",
            "4     01b0fb51-4461-4638-95a5-8fc8c0ef1c9d           2\n",
            "...                                    ...         ...\n",
            "1124  fe9bd5c2-c7fe-44c5-8013-457d693a3ec1          58\n",
            "1125  febe2751-8999-4f61-8c61-a5108a2981b3          18\n",
            "1126  ff665506-7322-4fcf-adef-0fdc52a8bd71         171\n",
            "1127  ff709292-6ece-4d95-83d1-2b74aee65631          15\n",
            "1128  ffc3fe3e-1fd8-4979-a90d-7b8a076be0d2           2\n",
            "\n",
            "[1129 rows x 2 columns]\n"
          ]
        }
      ]
    },
    {
      "cell_type": "code",
      "source": [
        "# print(totalWalks.max())"
      ],
      "metadata": {
        "id": "eABQlUN1cxAM"
      },
      "execution_count": 109,
      "outputs": []
    },
    {
      "cell_type": "markdown",
      "source": [
        "The ID of the user who walked the most among the walkers is \"ffc3fe3e-1fd8-4979-a90d-7b8a076be0d2\" and she/he walked 595 times in total.\n",
        "\n",
        "\n"
      ],
      "metadata": {
        "id": "yeBDB0buBeMb"
      }
    },
    {
      "cell_type": "markdown",
      "source": [
        "**b.\tfirstWalk\n",
        "i.\tFirst walk date of walker**"
      ],
      "metadata": {
        "id": "E_l7xF824IrC"
      }
    },
    {
      "cell_type": "code",
      "source": [
        "firstWalk = df1.groupby(\"walkerid\")[\"checkintime\"].min()\n",
        "df1[\"firstWalk\"] = firstWalk\n",
        "print(firstWalk)"
      ],
      "metadata": {
        "id": "LFh3qup0S_pr",
        "colab": {
          "base_uri": "https://localhost:8080/"
        },
        "outputId": "651aa03c-4232-41ef-da69-3280a2b3275d"
      },
      "execution_count": 136,
      "outputs": [
        {
          "output_type": "stream",
          "name": "stdout",
          "text": [
            "walkerid\n",
            "00162fd3-21b4-4371-bebe-db6b081d86ef   2020-11-09 04:30:00.000\n",
            "0082cfc9-ce2f-47b1-a1ae-5e0c45f903b1   2020-11-04 12:34:54.410\n",
            "00fef613-662c-4194-8de1-164942e25fb2   2019-12-16 11:00:00.000\n",
            "01adeee1-cb3d-46ff-9514-f4797299698c   2021-01-22 16:29:00.775\n",
            "01b0fb51-4461-4638-95a5-8fc8c0ef1c9d   2020-03-10 11:15:00.000\n",
            "                                                 ...          \n",
            "fe9bd5c2-c7fe-44c5-8013-457d693a3ec1   2020-10-31 19:00:00.000\n",
            "febe2751-8999-4f61-8c61-a5108a2981b3   2020-11-01 15:30:00.000\n",
            "ff665506-7322-4fcf-adef-0fdc52a8bd71   2019-09-14 09:00:00.000\n",
            "ff709292-6ece-4d95-83d1-2b74aee65631   2020-03-02 03:15:00.000\n",
            "ffc3fe3e-1fd8-4979-a90d-7b8a076be0d2   2020-09-22 17:30:00.000\n",
            "Name: checkintime, Length: 1129, dtype: datetime64[ns]\n"
          ]
        }
      ]
    },
    {
      "cell_type": "markdown",
      "source": [
        "**c.\tlastWalk\n",
        "i.\tLast walk date of walker**\n"
      ],
      "metadata": {
        "id": "NkEzt-ER4Jo4"
      }
    },
    {
      "cell_type": "code",
      "source": [
        "lastWalk = df1.groupby(\"walkerid\")[\"checkintime\"].max()\n",
        "df1[\"lastWalk\"] = lastWalk\n",
        "print(lastWalk)"
      ],
      "metadata": {
        "id": "r12DbtNfVRaH",
        "colab": {
          "base_uri": "https://localhost:8080/"
        },
        "outputId": "cb44c90d-cde6-4afc-a92b-542e49ee2eea"
      },
      "execution_count": 137,
      "outputs": [
        {
          "output_type": "stream",
          "name": "stdout",
          "text": [
            "walkerid\n",
            "00162fd3-21b4-4371-bebe-db6b081d86ef   2020-11-30 04:30:00\n",
            "0082cfc9-ce2f-47b1-a1ae-5e0c45f903b1   2020-11-20 10:30:00\n",
            "00fef613-662c-4194-8de1-164942e25fb2   2020-01-15 11:00:00\n",
            "01adeee1-cb3d-46ff-9514-f4797299698c   2021-02-11 11:00:00\n",
            "01b0fb51-4461-4638-95a5-8fc8c0ef1c9d   2020-03-12 12:00:00\n",
            "                                               ...        \n",
            "fe9bd5c2-c7fe-44c5-8013-457d693a3ec1   2021-02-25 05:00:00\n",
            "febe2751-8999-4f61-8c61-a5108a2981b3   2021-02-23 06:00:00\n",
            "ff665506-7322-4fcf-adef-0fdc52a8bd71   2021-02-25 15:45:00\n",
            "ff709292-6ece-4d95-83d1-2b74aee65631   2020-03-27 03:45:00\n",
            "ffc3fe3e-1fd8-4979-a90d-7b8a076be0d2   2020-09-23 17:30:00\n",
            "Name: checkintime, Length: 1129, dtype: datetime64[ns]\n"
          ]
        }
      ]
    },
    {
      "cell_type": "markdown",
      "source": [
        "**d.\tsignupTime\n",
        "i.\tThe date that walker signs up in app**\n"
      ],
      "metadata": {
        "id": "8iXScHy64Ul5"
      }
    },
    {
      "cell_type": "code",
      "source": [
        "signuptime = df2[[\"id\", \"signuptime\"]]\n",
        "print(signuptime)"
      ],
      "metadata": {
        "id": "QX420wc1Xxj-",
        "colab": {
          "base_uri": "https://localhost:8080/"
        },
        "outputId": "5f615edf-6ea2-4bbe-a36b-bc65e293b617"
      },
      "execution_count": 138,
      "outputs": [
        {
          "output_type": "stream",
          "name": "stdout",
          "text": [
            "                                       id               signuptime\n",
            "0    248b0c40-6670-47e1-be2d-052934fac3ea  2019-11-03 22:01:38.006\n",
            "1    01029542-74c8-4ba7-9370-c63d0eab244d  2020-02-11 15:30:28.371\n",
            "2    d6d71172-a808-420e-9856-3dd0a067318b  2019-11-06 09:47:58.777\n",
            "3    7f6a0cfd-b94d-4bb6-9db8-d7c28eb03e7b  2020-10-12 11:38:52.230\n",
            "4    fb487092-7521-4cb4-b102-a24cd337da54  2020-11-24 13:29:52.648\n",
            "..                                    ...                      ...\n",
            "725  8ec22b8d-0e4e-433b-92bc-29495f0b8680  2019-03-12 08:18:41.605\n",
            "726  47f70e45-5b0c-4789-b9ed-10aec14125dc  2019-04-10 10:01:26.674\n",
            "727  3aff1e71-d407-471d-aa41-4847a4464aa4  2019-01-02 17:01:56.931\n",
            "728  a5006ac2-b567-48ae-bddf-f06e371c5108  2019-01-02 16:57:38.020\n",
            "729  5ff90153-723d-4317-8a2c-df87fa88845d  2021-02-21 11:36:00.027\n",
            "\n",
            "[730 rows x 2 columns]\n"
          ]
        }
      ]
    },
    {
      "cell_type": "markdown",
      "source": [
        "**e.\tdidDemandOrWalk                       \n",
        "i.\tWhether the walker did a walk or demand after his/her signup\n",
        "ii.\tLabel: Yes/No**"
      ],
      "metadata": {
        "id": "QtMsN2RQ4XOb"
      }
    },
    {
      "cell_type": "code",
      "source": [
        "df = pd.merge(df1, df2, left_on=\"walkerid\", right_on=\"id\", how=\"right\")\n",
        "df[\"didDemandOrWalk\"] = df[\"checkintime\"].apply(lambda x: \"Yes\" if not pd.isna(x) else \"No\")\n",
        "print(df[\"didDemandOrWalk\"])"
      ],
      "metadata": {
        "id": "mlSMTCf5can_",
        "colab": {
          "base_uri": "https://localhost:8080/"
        },
        "outputId": "193f1f3b-9935-49da-909c-6024e616d40d"
      },
      "execution_count": 139,
      "outputs": [
        {
          "output_type": "stream",
          "name": "stdout",
          "text": [
            "0        No\n",
            "1        No\n",
            "2        No\n",
            "3       Yes\n",
            "4       Yes\n",
            "       ... \n",
            "7143    Yes\n",
            "7144    Yes\n",
            "7145    Yes\n",
            "7146    Yes\n",
            "7147     No\n",
            "Name: didDemandOrWalk, Length: 7148, dtype: object\n"
          ]
        }
      ]
    },
    {
      "cell_type": "code",
      "source": [
        "# print((df[\"didDemandOrWalk\"] == \"Yes\").sum())\n",
        "# print((df[\"didDemandOrWalk\"] == \"No\").sum())\n",
        "\n",
        "print(df[\"didDemandOrWalk\"].value_counts().plot.pie())"
      ],
      "metadata": {
        "colab": {
          "base_uri": "https://localhost:8080/",
          "height": 423
        },
        "id": "wtw3DiCpB1Ou",
        "outputId": "146372f2-82ec-4cb7-9476-154374b7701a"
      },
      "execution_count": 140,
      "outputs": [
        {
          "output_type": "stream",
          "name": "stdout",
          "text": [
            "Axes(0.22375,0.11;0.5775x0.77)\n"
          ]
        },
        {
          "output_type": "display_data",
          "data": {
            "text/plain": [
              "<Figure size 640x480 with 1 Axes>"
            ],
            "image/png": "[encoded data removed]"
          },
          "metadata": {}
        }
      ]
    },
    {
      "cell_type": "markdown",
      "source": [
        "While 6773 of 7148 walkers went for a walk after registering with the DogGo application, 375 walkers never went for a walk. In other words, approximately 95% of walkers went for a walk."
      ],
      "metadata": {
        "id": "uyzhDL_pB44r"
      }
    },
    {
      "cell_type": "markdown",
      "source": [
        "**f.\tlifetime\n",
        "i.\tDate difference between signuptime and lastWalk (unit: Days)**\n"
      ],
      "metadata": {
        "id": "nRivZ_YH4nLu"
      }
    },
    {
      "cell_type": "code",
      "source": [
        "df[\"signuptime\"] = pd.to_datetime(df[\"signuptime\"])\n",
        "df[\"checkintime\"] = pd.to_datetime(df[\"checkintime\"])\n",
        "lifetime = (df[\"checkintime\"].max() - df[\"signuptime\"]).dt.days\n",
        "df[\"lifetime\"] = lifetime\n",
        "print(df[\"lifetime\"])"
      ],
      "metadata": {
        "id": "aTXfF_1dcay4",
        "colab": {
          "base_uri": "https://localhost:8080/"
        },
        "outputId": "e624cc34-3920-4fcb-c7bc-080804b3d42e"
      },
      "execution_count": 141,
      "outputs": [
        {
          "output_type": "stream",
          "name": "stdout",
          "text": [
            "0       480\n",
            "1       381\n",
            "2       478\n",
            "3       137\n",
            "4       137\n",
            "       ... \n",
            "7143    785\n",
            "7144    785\n",
            "7145    785\n",
            "7146    785\n",
            "7147      5\n",
            "Name: lifetime, Length: 7148, dtype: int64\n"
          ]
        }
      ]
    },
    {
      "cell_type": "code",
      "source": [
        "# print(df[\"lifetime\"].min())\n",
        "# print(df[\"lifetime\"].max())"
      ],
      "metadata": {
        "id": "u3DjvNiuS5r6"
      },
      "execution_count": 57,
      "outputs": []
    },
    {
      "cell_type": "markdown",
      "source": [
        "According to the data, among the users there are users who registered with the application and used it for a maximum of 786 days."
      ],
      "metadata": {
        "id": "EwpAHY-8TCoG"
      }
    },
    {
      "cell_type": "markdown",
      "source": [
        "**g.\taverageLifetime\n",
        "i.\tThe tag that walker is in the app more or less than average of all walkers\n",
        "ii.\tLabel: Less/More**\n"
      ],
      "metadata": {
        "id": "yrEt6h3M4npR"
      }
    },
    {
      "cell_type": "code",
      "source": [
        "averageLifetime = lifetime.mean()\n",
        "df[\"averageLifetime\"] = \"More\"\n",
        "df.loc[df[\"walkerid\"].count() < averageLifetime, \"averageLifetime\"] = \"Less\"\n",
        "print(df[\"averageLifetime\"])"
      ],
      "metadata": {
        "id": "KNYC3bd7yy7o",
        "colab": {
          "base_uri": "https://localhost:8080/"
        },
        "outputId": "ee2ddb25-4285-4507-99dd-16221ec8f280"
      },
      "execution_count": 142,
      "outputs": [
        {
          "output_type": "stream",
          "name": "stdout",
          "text": [
            "0        Less\n",
            "1        More\n",
            "2        More\n",
            "3        More\n",
            "4        More\n",
            "         ... \n",
            "7144     More\n",
            "7145     More\n",
            "7146     More\n",
            "7147     More\n",
            "False    Less\n",
            "Name: averageLifetime, Length: 7149, dtype: object\n"
          ]
        }
      ]
    },
    {
      "cell_type": "code",
      "source": [
        "# print((df[\"averageLifetime\"] == \"More\").sum())\n",
        "# print((df[\"averageLifetime\"] == \"Less\").sum())\n",
        "\n",
        "print(df[\"averageLifetime\"].value_counts().plot.pie())"
      ],
      "metadata": {
        "colab": {
          "base_uri": "https://localhost:8080/",
          "height": 423
        },
        "id": "DKI3v2FDUBf3",
        "outputId": "9865b370-8d1f-4deb-81b8-8df93477dd66"
      },
      "execution_count": 66,
      "outputs": [
        {
          "output_type": "stream",
          "name": "stdout",
          "text": [
            "Axes(0.22375,0.11;0.5775x0.77)\n"
          ]
        },
        {
          "output_type": "display_data",
          "data": {
            "text/plain": [
              "<Figure size 640x480 with 1 Axes>"
            ],
            "image/png": "[encoded data removed]"
          },
          "metadata": {}
        }
      ]
    },
    {
      "cell_type": "markdown",
      "source": [
        "While 4394 walkers walked more than the average of all walkers on the app, 2754 walkers walked less than the average user. It means that approximately 61.5% users walked more than the average user."
      ],
      "metadata": {
        "id": "EfXe8Q0_VhR7"
      }
    },
    {
      "cell_type": "markdown",
      "source": [],
      "metadata": {
        "id": "WsaPXI_cXG4-"
      }
    },
    {
      "cell_type": "markdown",
      "source": [
        "**h.\taverageWalk\n",
        "i.\tThe tag that walker is done more or less walks than average of all walkers done. Compare walker total the walk count with average of all walkers\n",
        "ii.\tLabel: Less/More**"
      ],
      "metadata": {
        "id": "AT3nQZ0x3ue2"
      }
    },
    {
      "cell_type": "code",
      "source": [
        "'''\n",
        "averageWalk = totalWalks.mean()\n",
        "df[\"averageWalk\"] = \"More\"\n",
        "df.loc[df[\"totalWalks\"] < averageWalk, \"averageWalk\"] = \"Less\"\n",
        "print(df[\"averageWalk\"])\n",
        "'''"
      ],
      "metadata": {
        "id": "NAq2JDSU4GyP"
      },
      "execution_count": null,
      "outputs": []
    },
    {
      "cell_type": "markdown",
      "source": [
        "**i.\tfirstWalkAfterSignup\n",
        "i.\tDate difference between walker’s signup date and first walk date (Unit: Days)**"
      ],
      "metadata": {
        "id": "zw6ijyVN3ubf"
      }
    },
    {
      "cell_type": "code",
      "source": [
        "df[\"signuptime\"] = pd.to_datetime(df[\"signuptime\"])\n",
        "df[\"checkintime\"] = pd.to_datetime(df[\"checkintime\"])\n",
        "firstWalkAfterSignup = (df[\"signuptime\"] - df[\"checkintime\"].min()).dt.days\n",
        "df[\"firstWalkAfterSignup\"] = firstWalkAfterSignup\n",
        "print(firstWalkAfterSignup)"
      ],
      "metadata": {
        "id": "J2qnZj4j7ZFO",
        "colab": {
          "base_uri": "https://localhost:8080/"
        },
        "outputId": "23b73621-3a8b-486d-91fb-b44d6f686f9f"
      },
      "execution_count": 123,
      "outputs": [
        {
          "output_type": "stream",
          "name": "stdout",
          "text": [
            "0        304.0\n",
            "1        403.0\n",
            "2        306.0\n",
            "3        647.0\n",
            "4        647.0\n",
            "         ...  \n",
            "7144      -1.0\n",
            "7145      -1.0\n",
            "7146      -1.0\n",
            "7147     779.0\n",
            "False      NaN\n",
            "Name: signuptime, Length: 7149, dtype: float64\n"
          ]
        }
      ]
    },
    {
      "cell_type": "markdown",
      "source": [
        "**j.\tfirstWalkinWeek\n",
        "i.\tThe tag whether the walker walked in his first week in the application**"
      ],
      "metadata": {
        "id": "hiiaXWiU3uZI"
      }
    },
    {
      "cell_type": "code",
      "source": [
        "'''\n",
        "df[\"one_week_after_signed\"] = df[\"signuptime\"] + pd.Timedelta(days=7)\n",
        "df[\"one_week_after_signed\"] = pd.to_datetime(df[\"one_week_after_signed\"])\n",
        "df[\"checkintime\"] = pd.to_datetime(df[\"checkintime\"])\n",
        "df[\"firstWalkinWeek\"] = \"No\"\n",
        "df.loc[df[\"checkintime\"].min() <= df[\"one_week_after_signed\"], \"firstwalkinWeek\"] = \"Yes\"\n",
        "df.drop(columns=[\"one_week_after_signed\"], inplace=True)\n",
        "print(df[\"firstWalkinWeek\"])\n",
        "'''"
      ],
      "metadata": {
        "id": "DCdPYN327ZnU"
      },
      "execution_count": null,
      "outputs": []
    },
    {
      "cell_type": "code",
      "source": [
        "# print((df[\"firstWalkinWeek\"] == 'Yes').sum())\n",
        "# print((df[\"firstWalkinWeek\"] == 'No').sum())"
      ],
      "metadata": {
        "id": "AC2euXCSgybJ"
      },
      "execution_count": null,
      "outputs": []
    },
    {
      "cell_type": "markdown",
      "source": [
        "**k.\tlastMonthWalks\n",
        "i.\tNumber of walks done by walker in last 30 days**"
      ],
      "metadata": {
        "id": "UMROXbn13uWn"
      }
    },
    {
      "cell_type": "code",
      "source": [
        "df[\"checkintime\"] = pd.to_datetime(df[\"checkintime\"])\n",
        "today = \"26.02.2021 17:45:00\"\n",
        "today = pd.to_datetime(today)\n",
        "thirty_days_ago = today - timedelta(days=30)\n",
        "recent_walks = df[df[\"checkintime\"] >= thirty_days_ago]\n",
        "lastMonthWalks = recent_walks.groupby(\"walkerid\").size().reset_index(name=\"lastMonthWalks\")\n",
        "print(lastMonthWalks)"
      ],
      "metadata": {
        "id": "BM7sAqgi7aL2",
        "colab": {
          "base_uri": "https://localhost:8080/"
        },
        "outputId": "284dc9c7-d83e-45f0-f6e6-d1d9fb3165fc"
      },
      "execution_count": 158,
      "outputs": [
        {
          "output_type": "stream",
          "name": "stdout",
          "text": [
            "                                walkerid  lastMonthWalks\n",
            "0   09e59ced-1172-4744-a2bb-eb68ae83041c               5\n",
            "1   0ab3e600-4f94-424c-9b83-f605d72476c4              15\n",
            "2   1397c1a3-2af9-41c4-b691-890638e7d84c               5\n",
            "3   174c9266-15a9-4c28-b6ba-8cc00f051620               2\n",
            "4   1a997b08-8c03-4970-a63c-faeebddd0539              18\n",
            "5   244818e0-34a4-4090-8c7e-fa3999acfd7b              19\n",
            "6   2681ed5a-8ff7-415f-bd17-0717e7c40f49               1\n",
            "7   2ca0f63e-16f1-44d6-9b82-2c24977581e4               1\n",
            "8   33ce0158-cf03-489c-8421-1a59759f4b8c              24\n",
            "9   39366a5d-7831-4161-9798-15ebfc181338               4\n",
            "10  402c1152-1551-4104-9675-42e87fa52542               2\n",
            "11  43644236-2807-453a-ba66-57a080efc1bb               1\n",
            "12  4ad3ddfc-e004-4e7c-abba-b450d5eb3062               6\n",
            "13  51bfa3ea-ab13-432e-a3d6-56aaaf909c57               7\n",
            "14  5376ecf7-6f46-4060-bc8e-894e690b2fa8              27\n",
            "15  5460a9a8-c917-4246-926a-21e9ab6046bc               8\n",
            "16  54f3ee6f-ec65-40c0-a76d-903584eabb7a              20\n",
            "17  5b9a6efe-4622-4cb0-a330-bb8494e81a77              26\n",
            "18  5c8c6e6d-0c31-4066-a0ac-c3b4b1223663               3\n",
            "19  5e2470c2-982c-48bb-b006-d52332b0bac9              29\n",
            "20  5ff14126-f676-4bfe-ad7a-45a014e29bde               9\n",
            "21  615b4c00-4a3d-41bd-ae88-97d9e2485b0e              10\n",
            "22  6c23cf5e-8c2a-488e-a944-c559777efecb               7\n",
            "23  747946ad-b55a-4400-8bf0-ce15929cbb9b               1\n",
            "24  7594081d-eeef-41d3-b26e-c92e73c11863              32\n",
            "25  7dd7b478-3465-40e6-abfd-605434b9c81d              12\n",
            "26  81cae5ec-31c8-4287-a1bd-90aad87f030c               4\n",
            "27  820f43de-5db0-413c-9f4c-e2be746a6c00               1\n",
            "28  830e1b08-e678-464d-ba3c-c8949aae2bbd               1\n",
            "29  86512c6e-c292-487a-bf52-8cdfdee8a10c               8\n",
            "30  8f9dda8a-e283-4616-bc03-3c0ec1762083              15\n",
            "31  91da539b-5e33-479b-afdd-60922e75dc25               1\n",
            "32  9840e978-1108-490f-97ee-3adfb91a4f30              10\n",
            "33  a2c47504-c037-43eb-a191-032814a2ae58               6\n",
            "34  a84801ae-2d04-441b-8b0e-18e84c148532              11\n",
            "35  ac8a553d-5fd1-429c-a27e-72644a9d163b               4\n",
            "36  aec079a3-05fc-44cd-aa71-1cbab1c27a32               2\n",
            "37  b16124ba-665e-4235-bd33-72ce63624708               1\n",
            "38  b64e68d0-6389-40ba-abe0-ddf952503a1f               8\n",
            "39  b6d33f5d-5173-4880-89ab-41116971cba9               1\n",
            "40  b93995d2-ae36-4445-a3f2-a4c49b13bde1              29\n",
            "41  bdc85172-be44-4484-85f3-b7e1f9330633               1\n",
            "42  c01159d8-394e-4b76-92cf-2084a85fb69a              31\n",
            "43  c0fb1eda-f70f-4b96-a17d-c048d006a468              14\n",
            "44  c8321515-48be-496d-ae59-8cb83d430983              13\n",
            "45  cd93999f-f196-47cb-b644-949fd716e1af               7\n",
            "46  ceaedb22-aaf0-4b24-9652-139e071f4d6e               1\n",
            "47  d050ff0e-a95c-4dc9-bc83-1ceca33a4dfa               2\n",
            "48  deb55abf-ad1b-45fe-8073-e701e9275258               3\n",
            "49  e7efc165-35d8-4fc5-b541-589723e203c4              15\n",
            "50  eca75eaf-a328-48cb-92ff-081ed4db4c9d              16\n",
            "51  ecb32aa1-e3bf-4b09-ab40-68229826bc3a               8\n",
            "52  f0df3062-386a-495d-9eb6-660eab35b84b               1\n",
            "53  fb01f760-2e48-40fa-8670-2cf8509a1f0d               1\n",
            "54  ff665506-7322-4fcf-adef-0fdc52a8bd71               3\n"
          ]
        }
      ]
    },
    {
      "cell_type": "markdown",
      "source": [
        "**l.\tactivityTag\n",
        "i.\tThe tag that measures walker’s activity\n",
        "ii.\tWhether the walker made a demand or walk in last 30 days**"
      ],
      "metadata": {
        "id": "silNqzmA3uUK"
      }
    },
    {
      "cell_type": "code",
      "source": [
        "today = \"26.02.2021 17:45:00\"\n",
        "today = pd.to_datetime(today)\n",
        "thirty_days_ago = today - timedelta(days=30)\n",
        "df[\"checkintime\"] = pd.to_datetime(df[\"checkintime\"])\n",
        "df[\"activityTag\"] = \"Inactive\"\n",
        "df.loc[df[\"checkintime\"] >= thirty_days_ago, \"activityTag\"] = \"Active\"\n",
        "df.loc[df[\"checkintime\"] <= today, \"activityTag\"] = \"Active\"\n",
        "print(df[\"activityTag\"])\n"
      ],
      "metadata": {
        "id": "2hVLReWk7aws",
        "colab": {
          "base_uri": "https://localhost:8080/"
        },
        "outputId": "f438de53-bb7d-4af7-adf6-f2e9d0eb8f95"
      },
      "execution_count": 209,
      "outputs": [
        {
          "output_type": "stream",
          "name": "stdout",
          "text": [
            "0        Inactive\n",
            "1        Inactive\n",
            "2        Inactive\n",
            "3          Active\n",
            "4          Active\n",
            "           ...   \n",
            "7144       Active\n",
            "7145       Active\n",
            "7146       Active\n",
            "7147     Inactive\n",
            "False    Inactive\n",
            "Name: activityTag, Length: 7149, dtype: object\n"
          ]
        }
      ]
    },
    {
      "cell_type": "code",
      "source": [
        "print((df[\"activityTag\"] == \"Active\").sum())\n",
        "print((df[\"activityTag\"] == \"Inactive\").sum())\n",
        "\n",
        "print(df[\"activityTag\"].value_counts().plot.pie())"
      ],
      "metadata": {
        "colab": {
          "base_uri": "https://localhost:8080/",
          "height": 458
        },
        "id": "pYHdU22fiieq",
        "outputId": "4a5b4e3e-b2af-4d68-a9d4-901d43cdc1fa"
      },
      "execution_count": 207,
      "outputs": [
        {
          "output_type": "stream",
          "name": "stdout",
          "text": [
            "6773\n",
            "376\n",
            "Axes(0.22375,0.11;0.5775x0.77)\n"
          ]
        },
        {
          "output_type": "display_data",
          "data": {
            "text/plain": [
              "<Figure size 640x480 with 1 Axes>"
            ],
            "image/png": "[encoded data removed]"
          },
          "metadata": {}
        }
      ]
    },
    {
      "cell_type": "markdown",
      "source": [
        "While 6773 walkers walked, 375 walkers did not walk  in last 30 days."
      ],
      "metadata": {
        "id": "QfrPHdgao8Et"
      }
    },
    {
      "cell_type": "markdown",
      "source": [
        "**m.\tdifferentDistrictCount\n",
        "i.\tunique distinct number of districts that walker walked**"
      ],
      "metadata": {
        "id": "e0e7DVD53uMO"
      }
    },
    {
      "cell_type": "code",
      "source": [
        "differentDistrictCount  = df.groupby(\"walkerid\")[\"district\"].nunique()\n",
        "df[\"differentDistrictCount\"] = differentDistrictCount\n",
        "print(differentDistrictCount)"
      ],
      "metadata": {
        "id": "eEZB0GWc7dnh",
        "colab": {
          "base_uri": "https://localhost:8080/"
        },
        "outputId": "051f98a9-ed8e-4494-be48-5cf66ea491f8"
      },
      "execution_count": 162,
      "outputs": [
        {
          "output_type": "stream",
          "name": "stdout",
          "text": [
            "walkerid\n",
            "01b0fb51-4461-4638-95a5-8fc8c0ef1c9d    1\n",
            "01d9cdcd-c770-4d29-8ca5-dd0770962b67    1\n",
            "01fa4741-4138-472b-bdb6-d1f19fd2f44a    1\n",
            "03b85e74-989f-4cf2-993f-d8411de50e3a    2\n",
            "045cc0a5-afb1-4caa-9575-7faf6d3e1f69    2\n",
            "                                       ..\n",
            "fc597c8e-65bc-48f6-b5d9-b372238cd94d    2\n",
            "fd1c862f-25a6-4051-a9b5-2776fb28345e    1\n",
            "fde176dc-7f6b-408f-8c3e-6835b651d5ba    2\n",
            "ff665506-7322-4fcf-adef-0fdc52a8bd71    3\n",
            "ff709292-6ece-4d95-83d1-2b74aee65631    2\n",
            "Name: district, Length: 355, dtype: int64\n"
          ]
        }
      ]
    },
    {
      "cell_type": "markdown",
      "source": [
        "**n.\tactiveLifeTime\n",
        "i.\ttime difference between last walk or last demand (later one) and fist walk of walker (last walk/ last demand - first walk)**"
      ],
      "metadata": {
        "id": "5HIkg1OZ3uIz"
      }
    },
    {
      "cell_type": "code",
      "source": [
        "lastWalk = pd.to_datetime(lastWalk)\n",
        "firstWalk = pd.to_datetime(firstWalk)\n",
        "activeLifeTime = lastWalk - firstWalk\n",
        "df[\"activeLifeTime\"] = activeLifeTime\n",
        "print(activeLifeTime)"
      ],
      "metadata": {
        "id": "TqsVa7oB7dNy",
        "colab": {
          "base_uri": "https://localhost:8080/"
        },
        "outputId": "17787040-533b-498b-b599-1e31af4c7b4c"
      },
      "execution_count": 163,
      "outputs": [
        {
          "output_type": "stream",
          "name": "stdout",
          "text": [
            "walkerid\n",
            "00162fd3-21b4-4371-bebe-db6b081d86ef          21 days 00:00:00\n",
            "0082cfc9-ce2f-47b1-a1ae-5e0c45f903b1   15 days 21:55:05.590000\n",
            "00fef613-662c-4194-8de1-164942e25fb2          30 days 00:00:00\n",
            "01adeee1-cb3d-46ff-9514-f4797299698c   19 days 18:30:59.225000\n",
            "01b0fb51-4461-4638-95a5-8fc8c0ef1c9d           2 days 00:45:00\n",
            "                                                 ...          \n",
            "fe9bd5c2-c7fe-44c5-8013-457d693a3ec1         116 days 10:00:00\n",
            "febe2751-8999-4f61-8c61-a5108a2981b3         113 days 14:30:00\n",
            "ff665506-7322-4fcf-adef-0fdc52a8bd71         530 days 06:45:00\n",
            "ff709292-6ece-4d95-83d1-2b74aee65631          25 days 00:30:00\n",
            "ffc3fe3e-1fd8-4979-a90d-7b8a076be0d2           1 days 00:00:00\n",
            "Name: checkintime, Length: 1129, dtype: timedelta64[ns]\n"
          ]
        }
      ]
    },
    {
      "cell_type": "markdown",
      "source": [
        "**o.\ttotalActiveDayCount\n",
        "i.\ttotal number of walk day: number of days that walker has walking**"
      ],
      "metadata": {
        "id": "xgtkmXkL3Y66"
      }
    },
    {
      "cell_type": "code",
      "source": [
        "totalActiveDayCount = df.groupby(\"walkerid\")[\"checkintime\"].nunique()\n",
        "df[\"totalActiveDayCount\"] = totalActiveDayCount\n",
        "print(totalActiveDayCount)"
      ],
      "metadata": {
        "colab": {
          "base_uri": "https://localhost:8080/"
        },
        "id": "sJMWEmuY7c5u",
        "outputId": "c8914dfa-beae-497f-c5f7-d8c13d13f28b"
      },
      "execution_count": 164,
      "outputs": [
        {
          "output_type": "stream",
          "name": "stdout",
          "text": [
            "walkerid\n",
            "01b0fb51-4461-4638-95a5-8fc8c0ef1c9d      2\n",
            "01d9cdcd-c770-4d29-8ca5-dd0770962b67      3\n",
            "01fa4741-4138-472b-bdb6-d1f19fd2f44a      1\n",
            "03b85e74-989f-4cf2-993f-d8411de50e3a      4\n",
            "045cc0a5-afb1-4caa-9575-7faf6d3e1f69     18\n",
            "                                       ... \n",
            "fc597c8e-65bc-48f6-b5d9-b372238cd94d      5\n",
            "fd1c862f-25a6-4051-a9b5-2776fb28345e      2\n",
            "fde176dc-7f6b-408f-8c3e-6835b651d5ba     23\n",
            "ff665506-7322-4fcf-adef-0fdc52a8bd71    169\n",
            "ff709292-6ece-4d95-83d1-2b74aee65631     15\n",
            "Name: checkintime, Length: 355, dtype: int64\n"
          ]
        }
      ]
    },
    {
      "cell_type": "markdown",
      "source": [
        "**p.\twalkFrequency\n",
        "i.\tactiveLifeTime/totalActiveDayCount**"
      ],
      "metadata": {
        "id": "yR0Rv1mY3Yt4"
      }
    },
    {
      "cell_type": "code",
      "source": [
        "walkFrequency = activeLifeTime/totalActiveDayCount\n",
        "df[\"walkFrequency\"] = walkFrequency\n",
        "print(walkFrequency)"
      ],
      "metadata": {
        "id": "txneSYky7coD",
        "colab": {
          "base_uri": "https://localhost:8080/"
        },
        "outputId": "e984df16-e1be-4d2a-df86-c064437f561d"
      },
      "execution_count": 133,
      "outputs": [
        {
          "output_type": "stream",
          "name": "stdout",
          "text": [
            "walkerid\n",
            "00162fd3-21b4-4371-bebe-db6b081d86ef                         NaT\n",
            "0082cfc9-ce2f-47b1-a1ae-5e0c45f903b1                         NaT\n",
            "00fef613-662c-4194-8de1-164942e25fb2                         NaT\n",
            "01adeee1-cb3d-46ff-9514-f4797299698c                         NaT\n",
            "01b0fb51-4461-4638-95a5-8fc8c0ef1c9d             1 days 00:22:30\n",
            "                                                  ...           \n",
            "fe9bd5c2-c7fe-44c5-8013-457d693a3ec1                         NaT\n",
            "febe2751-8999-4f61-8c61-a5108a2981b3                         NaT\n",
            "ff665506-7322-4fcf-adef-0fdc52a8bd71   3 days 03:18:22.366863905\n",
            "ff709292-6ece-4d95-83d1-2b74aee65631             1 days 16:02:00\n",
            "ffc3fe3e-1fd8-4979-a90d-7b8a076be0d2                         NaT\n",
            "Name: checkintime, Length: 1129, dtype: timedelta64[ns]\n"
          ]
        }
      ]
    },
    {
      "cell_type": "markdown",
      "source": [
        "**q.\tdailyWalkAverage\n",
        "i.\ttotalWalk/totalActiveDayCount**"
      ],
      "metadata": {
        "id": "kz4Ge1SJ3YkW"
      }
    },
    {
      "cell_type": "code",
      "source": [
        "'''\n",
        "dailyWalkAverage = totalWalks/totalActiveDayCount\n",
        "print(dailyWalkAverage)\n",
        "'''"
      ],
      "metadata": {
        "id": "Fp7R6pMj7cUY"
      },
      "execution_count": null,
      "outputs": []
    },
    {
      "cell_type": "markdown",
      "source": [
        "**r.\twalksWithNoDemands\n",
        "i.\tFind walks done without any demand**"
      ],
      "metadata": {
        "id": "Cf9pviwR3YVx"
      }
    },
    {
      "cell_type": "code",
      "source": [
        "df4 = pd.merge(df1, df3, on=\"walkerid\", how=\"outer\")\n",
        "walksWithNoDemands = df4[df4[\"demandtime\"].isnull()]\n",
        "print(walksWithNoDemands)"
      ],
      "metadata": {
        "id": "oAjSmFgp7b4M",
        "colab": {
          "base_uri": "https://localhost:8080/"
        },
        "outputId": "00010a3e-0d14-4936-e91f-7e5ec24d7cf7"
      },
      "execution_count": 173,
      "outputs": [
        {
          "output_type": "stream",
          "name": "stdout",
          "text": [
            "         Unnamed: 0                             ownerid_x  \\\n",
            "173346          7.0  e67b36e4-8b73-4ac6-9503-9e2fba8a177d   \n",
            "173347      16529.0  e67b36e4-8b73-4ac6-9503-9e2fba8a177d   \n",
            "174903         11.0  3bede1b6-0498-437b-a50a-f86e1fc8c938   \n",
            "174904         70.0  6d643c76-109f-4b3e-a09e-1b8f55d3b11d   \n",
            "174905        122.0  e61db060-7c7d-4b6c-bad0-485943233732   \n",
            "...             ...                                   ...   \n",
            "1384134     17916.0  4192aad1-d1df-4e0b-8515-a281b5555753   \n",
            "1384135     17927.0  6c6b9a63-8f1e-4c28-b951-c92ea111bc24   \n",
            "1384136     18018.0  43b72967-b365-4d81-a283-4f77c5662f68   \n",
            "1384137     18021.0  6777f900-bd9f-4ced-bb8c-943260a812ab   \n",
            "1384150     18187.0  513146d5-1343-4296-b76a-1a0ea2b978d4   \n",
            "\n",
            "                                       walkid  \\\n",
            "173346   0daeee3e-ef24-4fb0-96bb-a77ac647825e   \n",
            "173347   7de2b1a2-c69f-4128-8eee-0a51537570eb   \n",
            "174903   51183f4e-4667-4675-b10f-7bb5424c146b   \n",
            "174904   04ab50b0-5cf7-4391-a129-7217b1c08291   \n",
            "174905   5bd8868d-6a8d-482c-9d62-8b8cc6edd060   \n",
            "...                                       ...   \n",
            "1384134  7f6c4116-e430-40a4-bd4f-a419b9affe9a   \n",
            "1384135  73d217b7-8a03-4a8b-837b-37765fe989ff   \n",
            "1384136  490069f6-8381-4232-abe5-60aea915cd10   \n",
            "1384137  bfc9e03d-c06e-4b5b-b5e8-73e7abf32869   \n",
            "1384150  e8acc441-db1c-4082-bf1b-683bea283c81   \n",
            "\n",
            "                                     walkerid  \\\n",
            "173346   7f3f00c5-0f59-4e67-b7eb-bf508a19d913   \n",
            "173347   7f3f00c5-0f59-4e67-b7eb-bf508a19d913   \n",
            "174903   f12c75c0-6895-4322-b771-7e27b0be5448   \n",
            "174904   f12c75c0-6895-4322-b771-7e27b0be5448   \n",
            "174905   f12c75c0-6895-4322-b771-7e27b0be5448   \n",
            "...                                       ...   \n",
            "1384134  33c6c19e-e735-444a-bcaf-4914abd7ef41   \n",
            "1384135  9db80134-a7eb-4c85-a6f7-88ddfa3f0da6   \n",
            "1384136  db512508-e038-4e73-b7e2-9b4e681225b1   \n",
            "1384137  c3b07f44-5b82-4877-8c57-3eb35f033fe0   \n",
            "1384150  e668ded0-a2d4-4ed0-b2c3-3d19cb3fd0f1   \n",
            "\n",
            "                                    walkingid  \\\n",
            "173346   367dfeff-cc29-4967-a394-46b22ce454a5   \n",
            "173347   367dfeff-cc29-4967-a394-46b22ce454a5   \n",
            "174903   4d029619-4521-42bd-ad96-7397cd4f2f7b   \n",
            "174904   9f461af3-fd13-4232-9546-3c475cebd0ae   \n",
            "174905   7d91baf8-dd83-4404-a2f3-63db65be8d4d   \n",
            "...                                       ...   \n",
            "1384134  f1bb779a-ba80-4ace-a0d4-6db4ca5333d4   \n",
            "1384135  3ba96442-d1b3-4ab3-a1f1-365a8c307957   \n",
            "1384136  71d52aa0-8a88-4f0c-8aee-25ae698386f6   \n",
            "1384137  9e32991e-0611-4a47-bdb5-69804fcecf38   \n",
            "1384150  7f7c3b08-b0f8-4fee-a5a8-46fc4cbe906a   \n",
            "\n",
            "                                      dogid_x walkingtype  duration  \\\n",
            "173346   3148ded2-e1e2-4fe6-b9a1-6b5eaee397a0   Customize      45.0   \n",
            "173347   3148ded2-e1e2-4fe6-b9a1-6b5eaee397a0   Customize      45.0   \n",
            "174903   0e16cfb0-d6a3-4091-823c-d219f5ab7f06     Planned      45.0   \n",
            "174904   00da6d22-589b-4ff9-a4d6-6a185997acd9     Package      45.0   \n",
            "174905   87a40433-6541-4628-91a2-d499f2b9cd88     Planned      45.0   \n",
            "...                                       ...         ...       ...   \n",
            "1384134  3e0731c9-7bbb-4d9e-ae8b-58f81cda7b59     Package      45.0   \n",
            "1384135  11a4799c-398d-44e8-8321-9c546d56e9f9     Package      45.0   \n",
            "1384136  9dc9b910-4d9e-4d8d-acc1-2c7b36974cfa       AdHoc      45.0   \n",
            "1384137  c6fb70d0-3df6-4bdd-b4b3-e532718c1911       AdHoc      45.0   \n",
            "1384150  3a3b2c64-10f7-4b2d-a0e0-13fa8e9dc851     Planned      45.0   \n",
            "\n",
            "                    checkintime   distance  ... matchingid ownerid_y  \\\n",
            "173346  2020-02-04 07:00:00.000   2.170855  ...        NaN       NaN   \n",
            "173347  2020-02-03 11:00:00.000   2.528564  ...        NaN       NaN   \n",
            "174903  2019-02-10 07:00:00.000   1.485090  ...        NaN       NaN   \n",
            "174904  2019-07-10 15:00:00.000   0.140430  ...        NaN       NaN   \n",
            "174905  2019-08-01 06:00:00.000   0.291551  ...        NaN       NaN   \n",
            "...                         ...        ...  ...        ...       ...   \n",
            "1384134 2019-01-10 17:00:00.000   2.623808  ...        NaN       NaN   \n",
            "1384135 2019-08-27 08:00:00.000   1.211558  ...        NaN       NaN   \n",
            "1384136 2020-02-29 19:07:48.931  65.670114  ...        NaN       NaN   \n",
            "1384137 2020-02-21 18:51:31.563   0.505226  ...        NaN       NaN   \n",
            "1384150 2020-02-29 10:00:00.000   2.049261  ...        NaN       NaN   \n",
            "\n",
            "        servicetype walkerdistrict walkerneighborhood walkerdograteresponse  \\\n",
            "173346          NaN            NaN                NaN                   NaN   \n",
            "173347          NaN            NaN                NaN                   NaN   \n",
            "174903          NaN            NaN                NaN                   NaN   \n",
            "174904          NaN            NaN                NaN                   NaN   \n",
            "174905          NaN            NaN                NaN                   NaN   \n",
            "...             ...            ...                ...                   ...   \n",
            "1384134         NaN            NaN                NaN                   NaN   \n",
            "1384135         NaN            NaN                NaN                   NaN   \n",
            "1384136         NaN            NaN                NaN                   NaN   \n",
            "1384137         NaN            NaN                NaN                   NaN   \n",
            "1384150         NaN            NaN                NaN                   NaN   \n",
            "\n",
            "        walkergeo walkergroup  walkerrateresponse  week_number  \n",
            "173346        NaN         NaN                 NaN          NaN  \n",
            "173347        NaN         NaN                 NaN          NaN  \n",
            "174903        NaN         NaN                 NaN          NaN  \n",
            "174904        NaN         NaN                 NaN          NaN  \n",
            "174905        NaN         NaN                 NaN          NaN  \n",
            "...           ...         ...                 ...          ...  \n",
            "1384134       NaN         NaN                 NaN          NaN  \n",
            "1384135       NaN         NaN                 NaN          NaN  \n",
            "1384136       NaN         NaN                 NaN          NaN  \n",
            "1384137       NaN         NaN                 NaN          NaN  \n",
            "1384150       NaN         NaN                 NaN          NaN  \n",
            "\n",
            "[3196 rows x 31 columns]\n"
          ]
        }
      ]
    },
    {
      "cell_type": "markdown",
      "source": [
        "**s.\ttotalDemandCount**"
      ],
      "metadata": {
        "id": "UR0LBBrI3jol"
      }
    },
    {
      "cell_type": "code",
      "source": [
        "totalDemandCount = df3[\"demandtime\"].notnull().sum()\n",
        "print(totalDemandCount)"
      ],
      "metadata": {
        "id": "tb0PxbQB7eoB",
        "colab": {
          "base_uri": "https://localhost:8080/"
        },
        "outputId": "28cae615-60e2-423f-b2a9-cda8863af7dd"
      },
      "execution_count": 172,
      "outputs": [
        {
          "output_type": "stream",
          "name": "stdout",
          "text": [
            "22802\n"
          ]
        }
      ]
    },
    {
      "cell_type": "markdown",
      "source": [
        "**t.\tlast30DaysDemandCount**"
      ],
      "metadata": {
        "id": "5Hhz_rwZ3pXe"
      }
    },
    {
      "cell_type": "code",
      "source": [
        "df3[\"demandtime\"] = pd.to_datetime(df3[\"demandtime\"])\n",
        "last_30_days_demand = df3[df3[\"demandtime\"] >= thirty_days_ago]\n",
        "last30DaysDemandCount = len(last_30_days_demand)\n",
        "print(last30DaysDemandCount)"
      ],
      "metadata": {
        "id": "mzx2kCwU7eXT",
        "colab": {
          "base_uri": "https://localhost:8080/"
        },
        "outputId": "ee48253c-9c95-4003-ecf8-8800ea4d9446"
      },
      "execution_count": 171,
      "outputs": [
        {
          "output_type": "stream",
          "name": "stdout",
          "text": [
            "2414\n"
          ]
        }
      ]
    },
    {
      "cell_type": "markdown",
      "source": [
        "**u.\tweeklyAverageDemandCount**"
      ],
      "metadata": {
        "id": "q4xW2O3D3q3Z"
      }
    },
    {
      "cell_type": "code",
      "source": [
        "df3[\"demandtime\"] = pd.to_datetime(df3[\"demandtime\"])\n",
        "df3[\"week_number\"] = df3[\"demandtime\"].dt.strftime(\"%U\")\n",
        "weeklyAverageDemandCount = df3.groupby(\"week_number\").size().mean()\n",
        "print(weeklyAverageDemandCount)"
      ],
      "metadata": {
        "id": "0a1e3UKl7fDc",
        "colab": {
          "base_uri": "https://localhost:8080/"
        },
        "outputId": "1ab4a51f-ad8b-4224-fcff-0fbeca3f9ee0"
      },
      "execution_count": 170,
      "outputs": [
        {
          "output_type": "stream",
          "name": "stdout",
          "text": [
            "633.3888888888889\n"
          ]
        }
      ]
    }
  ]
}